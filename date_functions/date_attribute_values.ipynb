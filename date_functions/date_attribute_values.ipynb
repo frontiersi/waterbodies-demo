{
 "cells": [
  {
   "cell_type": "markdown",
   "id": "15c69014-e931-4f94-b20b-0cc35c372924",
   "metadata": {},
   "source": [
    "## Extracting specified date values from CSV  "
   ]
  },
  {
   "cell_type": "code",
   "execution_count": 1,
   "id": "42ff2b14-eefe-4d7f-8dbc-831d637f4a29",
   "metadata": {},
   "outputs": [],
   "source": [
    "import pandas as pd\n",
    "import geopandas as gpd"
   ]
  },
  {
   "cell_type": "code",
   "execution_count": 2,
   "id": "ba3d47e9-a155-417b-9580-c4c0085caab6",
   "metadata": {},
   "outputs": [],
   "source": [
    "#read the test csv file \n",
    "df=pd.read_csv('test_csv/rjbdr6m6w_v2.csv')"
   ]
  },
  {
   "cell_type": "code",
   "execution_count": 3,
   "id": "1f8b691a-cd5c-430e-b48e-81f0ddef893c",
   "metadata": {},
   "outputs": [
    {
     "data": {
      "text/plain": [
       "Index(['date', 'pc_wet', 'px_wet'], dtype='object')"
      ]
     },
     "execution_count": 3,
     "metadata": {},
     "output_type": "execute_result"
    }
   ],
   "source": [
    "df.columns"
   ]
  },
  {
   "cell_type": "markdown",
   "id": "1c34b678-7058-4e3a-9cad-392a89b401cc",
   "metadata": {
    "tags": []
   },
   "source": [
    "### Date of last satellite pass\n",
    "This function is designed to return the most recent date the satellite last passed over a give waterbody. "
   ]
  },
  {
   "cell_type": "code",
   "execution_count": null,
   "id": "707a7ac4-5d58-4e3b-9ca1-b1464e05b368",
   "metadata": {},
   "outputs": [],
   "source": [
    "def last_sat_pass(df):\n",
    "    df.sort_values(by='date', inplace=True, ascending=True)# ensures date values are in ascending order\n",
    "    return df['date'].iloc[-1]# returns the date last passed"
   ]
  },
  {
   "cell_type": "code",
   "execution_count": null,
   "id": "09e693c4-1a39-4dc0-8513-7eb38d3eb819",
   "metadata": {},
   "outputs": [],
   "source": [
    "last_sat_pass(df)"
   ]
  },
  {
   "cell_type": "markdown",
   "id": "9cba8f31-2b52-46a2-9522-9e91201e6ebe",
   "metadata": {},
   "source": [
    "### Date of last valid water observation\n",
    "This function is designed to return the most recent date that a valid water observation was recorded over a given waterbody. "
   ]
  },
  {
   "cell_type": "code",
   "execution_count": null,
   "id": "4b5fc77d-6bc5-45bc-a941-a15c4c5c24b8",
   "metadata": {},
   "outputs": [],
   "source": [
    "def last_wet_obs(df):\n",
    "    df.sort_values(by='date', inplace=True, ascending=True)# ensures date values are in ascending order\n",
    "    last_wet_obs=df.dropna(subset=['pc_wet','px_wet'], how='all')# drops nan values in 'pc_wet' 'px_wet' columns\n",
    "    return last_wet_obs['date'].iloc[-1]# returns the last valid observation"
   ]
  },
  {
   "cell_type": "code",
   "execution_count": null,
   "id": "24356c84-c1df-4e9d-b325-b7a566f0e447",
   "metadata": {},
   "outputs": [],
   "source": [
    "last_wet_obs(df)"
   ]
  },
  {
   "cell_type": "markdown",
   "id": "1a80560d-000c-44ff-a7eb-adeb9b89a6b6",
   "metadata": {},
   "source": [
    "### Surface area of last valid observation \n",
    "This function is designed to return the most recent surface area for a valid water observation. "
   ]
  },
  {
   "cell_type": "code",
   "execution_count": 19,
   "id": "e4739741-2b73-49e8-a534-df501daf0d61",
   "metadata": {},
   "outputs": [],
   "source": [
    "def pc_wet(df, area_value):\n",
    "    df.sort_values(by='date', inplace=True, ascending=True)# ensures date values are in ascending order\n",
    "    last_wet_obs=df.dropna(subset=['pc_wet','px_wet'], how='all')# drops nan values in 'pc_wet' 'px_wet' columns\n",
    "    last_pc_wet_obs= (area_value*last_wet_obs['pc_wet'].iloc[-1])/100 #select the last valid obs in 'pc_wet'\n",
    "    return last_pc_wet_obs# returns the last valid observation"
   ]
  },
  {
   "cell_type": "code",
   "execution_count": 20,
   "id": "bbbd9ac7-3d2a-4578-a24c-b918f1747140",
   "metadata": {},
   "outputs": [
    {
     "data": {
      "text/plain": [
       "900.0"
      ]
     },
     "execution_count": 20,
     "metadata": {},
     "output_type": "execute_result"
    }
   ],
   "source": [
    "area = 4500\n",
    "pc_wet(df, area)"
   ]
  },
  {
   "cell_type": "code",
   "execution_count": 17,
   "id": "a3dd0dd8-8af8-435c-aeda-4fda5c01ef80",
   "metadata": {},
   "outputs": [],
   "source": [
    "def px_wet(df):\n",
    "    df.sort_values(by='date', inplace=True, ascending=True)# ensures date values are in ascending order\n",
    "    last_wet_obs=df.dropna(subset=['pc_wet','px_wet'], how='all')# drops nan values in 'pc_wet' 'px_wet' columns\n",
    "    last_pc_wet_obs= 30*30*last_wet_obs['px_wet'].iloc[-2] #select the last valid obs in 'pc_wet'\n",
    "    return last_pc_wet_obs# returns the last valid observation"
   ]
  },
  {
   "cell_type": "code",
   "execution_count": 18,
   "id": "0ec4acdd-16bb-4975-a6da-cd81fb9dcf45",
   "metadata": {},
   "outputs": [
    {
     "data": {
      "text/plain": [
       "900.0"
      ]
     },
     "execution_count": 18,
     "metadata": {},
     "output_type": "execute_result"
    }
   ],
   "source": [
    "px_wet(df)"
   ]
  }
 ],
 "metadata": {
  "kernelspec": {
   "display_name": "Python 3 (ipykernel)",
   "language": "python",
   "name": "python3"
  },
  "language_info": {
   "codemirror_mode": {
    "name": "ipython",
    "version": 3
   },
   "file_extension": ".py",
   "mimetype": "text/x-python",
   "name": "python",
   "nbconvert_exporter": "python",
   "pygments_lexer": "ipython3",
   "version": "3.8.10"
  }
 },
 "nbformat": 4,
 "nbformat_minor": 5
}
